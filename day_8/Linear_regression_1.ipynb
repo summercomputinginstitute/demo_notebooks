{
 "cells": [
  {
   "cell_type": "markdown",
   "metadata": {},
   "source": [
    "<a href='https://ai.meng.duke.edu'> = <img align=\"left\" style=\"padding-top:10px;\" src=https://storage.googleapis.com/aipi_datasets/Duke-AIPI-Logo.png>"
   ]
  },
  {
   "cell_type": "markdown",
   "metadata": {},
   "source": [
    "# Linear Regression\n",
    "\n",
    "\n",
    "In this example we are going to be working with a dataset of statistics about different car models in the 1970s.  Our goal is to develop a model to predict the fuel efficiency (mpg) of a car model based on other known characteristics of the car and engine, such as horsepower, weight or year made.\n",
    "\n",
    "Data available at https://www.statlearning.com/resources-first-edition"
   ]
  },
  {
   "cell_type": "code",
   "execution_count": 5,
   "metadata": {},
   "outputs": [],
   "source": [
    "import numpy as np\n",
    "import pandas as pd\n",
    "import matplotlib.pyplot as plt\n",
    "import seaborn as sns\n",
    "from sklearn.model_selection import train_test_split\n",
    "from sklearn.linear_model import LinearRegression\n",
    "from sklearn.metrics import mean_squared_error,mean_absolute_error\n",
    "\n",
    "import warnings\n",
    "warnings.filterwarnings(\"ignore\")"
   ]
  },
  {
   "cell_type": "code",
   "execution_count": 6,
   "metadata": {},
   "outputs": [
    {
     "data": {
      "text/html": [
       "<div>\n",
       "<style scoped>\n",
       "    .dataframe tbody tr th:only-of-type {\n",
       "        vertical-align: middle;\n",
       "    }\n",
       "\n",
       "    .dataframe tbody tr th {\n",
       "        vertical-align: top;\n",
       "    }\n",
       "\n",
       "    .dataframe thead th {\n",
       "        text-align: right;\n",
       "    }\n",
       "</style>\n",
       "<table border=\"1\" class=\"dataframe\">\n",
       "  <thead>\n",
       "    <tr style=\"text-align: right;\">\n",
       "      <th></th>\n",
       "      <th>mpg</th>\n",
       "      <th>cylinders</th>\n",
       "      <th>displacement</th>\n",
       "      <th>horsepower</th>\n",
       "      <th>weight</th>\n",
       "      <th>acceleration</th>\n",
       "      <th>year</th>\n",
       "      <th>origin</th>\n",
       "      <th>name</th>\n",
       "    </tr>\n",
       "  </thead>\n",
       "  <tbody>\n",
       "    <tr>\n",
       "      <th>0</th>\n",
       "      <td>18.0</td>\n",
       "      <td>8</td>\n",
       "      <td>307.0</td>\n",
       "      <td>130</td>\n",
       "      <td>3504</td>\n",
       "      <td>12.0</td>\n",
       "      <td>70</td>\n",
       "      <td>1</td>\n",
       "      <td>chevrolet chevelle malibu</td>\n",
       "    </tr>\n",
       "    <tr>\n",
       "      <th>1</th>\n",
       "      <td>15.0</td>\n",
       "      <td>8</td>\n",
       "      <td>350.0</td>\n",
       "      <td>165</td>\n",
       "      <td>3693</td>\n",
       "      <td>11.5</td>\n",
       "      <td>70</td>\n",
       "      <td>1</td>\n",
       "      <td>buick skylark 320</td>\n",
       "    </tr>\n",
       "    <tr>\n",
       "      <th>2</th>\n",
       "      <td>18.0</td>\n",
       "      <td>8</td>\n",
       "      <td>318.0</td>\n",
       "      <td>150</td>\n",
       "      <td>3436</td>\n",
       "      <td>11.0</td>\n",
       "      <td>70</td>\n",
       "      <td>1</td>\n",
       "      <td>plymouth satellite</td>\n",
       "    </tr>\n",
       "    <tr>\n",
       "      <th>3</th>\n",
       "      <td>16.0</td>\n",
       "      <td>8</td>\n",
       "      <td>304.0</td>\n",
       "      <td>150</td>\n",
       "      <td>3433</td>\n",
       "      <td>12.0</td>\n",
       "      <td>70</td>\n",
       "      <td>1</td>\n",
       "      <td>amc rebel sst</td>\n",
       "    </tr>\n",
       "    <tr>\n",
       "      <th>4</th>\n",
       "      <td>17.0</td>\n",
       "      <td>8</td>\n",
       "      <td>302.0</td>\n",
       "      <td>140</td>\n",
       "      <td>3449</td>\n",
       "      <td>10.5</td>\n",
       "      <td>70</td>\n",
       "      <td>1</td>\n",
       "      <td>ford torino</td>\n",
       "    </tr>\n",
       "  </tbody>\n",
       "</table>\n",
       "</div>"
      ],
      "text/plain": [
       "    mpg  cylinders  displacement horsepower  weight  acceleration  year  \\\n",
       "0  18.0          8         307.0        130    3504          12.0    70   \n",
       "1  15.0          8         350.0        165    3693          11.5    70   \n",
       "2  18.0          8         318.0        150    3436          11.0    70   \n",
       "3  16.0          8         304.0        150    3433          12.0    70   \n",
       "4  17.0          8         302.0        140    3449          10.5    70   \n",
       "\n",
       "   origin                       name  \n",
       "0       1  chevrolet chevelle malibu  \n",
       "1       1          buick skylark 320  \n",
       "2       1         plymouth satellite  \n",
       "3       1              amc rebel sst  \n",
       "4       1                ford torino  "
      ]
     },
     "execution_count": 6,
     "metadata": {},
     "output_type": "execute_result"
    }
   ],
   "source": [
    "# Read in data\n",
    "data = pd.read_csv('Auto.csv')\n",
    "# We have some missing values, so let's remove any rows with missing values\n",
    "data = data[data['horsepower'] != '?']\n",
    "data.head()"
   ]
  },
  {
   "cell_type": "markdown",
   "metadata": {},
   "source": [
    "## Simple Linear Regression\n",
    "Let's start by creating a simple linear regression model to predict *mpg* using only *horsepower* as an input"
   ]
  },
  {
   "cell_type": "code",
   "execution_count": 8,
   "metadata": {},
   "outputs": [],
   "source": [
    "# Define the features and target (X and y)\n",
    "X = data['horsepower'].astype(int).values.reshape(-1,1)\n",
    "y = data['mpg'].astype(float)\n",
    "\n",
    "# Split into training and test sets, using 20% of our data for a test set\n",
    "X_train,X_test,y_train,y_test = train_test_split(X, y, random_state=0,test_size=0.2)"
   ]
  },
  {
   "cell_type": "code",
   "execution_count": 10,
   "metadata": {},
   "outputs": [
    {
     "data": {
      "image/png": "[encoded data removed]",
      "text/plain": [
       "<Figure size 576x432 with 1 Axes>"
      ]
     },
     "metadata": {
      "needs_background": "light"
     },
     "output_type": "display_data"
    }
   ],
   "source": [
    "# Instantiate a Simple Linear Regression model\n",
    "model = LinearRegression()\n",
    "\n",
    "# Train the model on the training data\n",
    "model.fit(X_train,y_train)\n",
    "\n",
    "# Look at how well the model is fitting the data by plotting the predictions for all points\n",
    "all_preds = model.predict(X)\n",
    "plt.figure(figsize=(8,6))\n",
    "plt.scatter(X_train,y_train,color='orange',edgecolor='white',s=30,label='train') # Plot training data\n",
    "plt.scatter(X_test,y_test,color='steelblue',edgecolor='white',s=30,alpha=0.6,label='test') # Plot test data\n",
    "plt.plot(X,all_preds,color='red',lw=2,label='predictions') # Plot predictions\n",
    "plt.xlabel('horsepower')\n",
    "plt.ylabel('mpg')\n",
    "plt.legend()\n",
    "plt.show()"
   ]
  },
  {
   "cell_type": "markdown",
   "metadata": {},
   "source": [
    "As we can see above, there appears to be a non-linear relationship between *horsepower* and *mpg* and our linear model is not able to fully capture the relationship.  Let's generate the predictions on the test set and calculate the mean squared error for both the training set and the test set predictions."
   ]
  },
  {
   "cell_type": "code",
   "execution_count": 21,
   "metadata": {},
   "outputs": [
    {
     "name": "stdout",
     "output_type": "stream",
     "text": [
      "MSE train: 24.430, test: 22.026\n"
     ]
    }
   ],
   "source": [
    "# Get the predictions on the training set and test set\n",
    "train_preds = model.predict(X_train)\n",
    "test_preds = model.predict(X_test)\n",
    "\n",
    "# Calculate MSE\n",
    "train_mse = 1/len(y_train)*np.sum((train_preds-y_train)**2)\n",
    "test_mse = 1/len(y_test)*np.sum((test_preds-y_test)**2)\n",
    "print('MSE train: {:.3f}, test: {:.3f}'.format(train_mse,test_mse))"
   ]
  },
  {
   "cell_type": "markdown",
   "metadata": {},
   "source": [
    "## Multiple Linear Regression\n",
    "Now let's create a new Multiple Linear Regression model adding in some additional numerical features: *cylinders*, *displacement*, *weight*, *year*."
   ]
  },
  {
   "cell_type": "code",
   "execution_count": 11,
   "metadata": {},
   "outputs": [
    {
     "name": "stdout",
     "output_type": "stream",
     "text": [
      "MSE train: 11.539, test: 11.953\n"
     ]
    }
   ],
   "source": [
    "# Define the features and target (X and y)\n",
    "X = data[['cylinders','displacement','horsepower','weight','acceleration','year']].astype(int)\n",
    "y = data['mpg']\n",
    "\n",
    "# Split into training and test sets using 20% of data for the test set\n",
    "X_train,X_test,y_train,y_test = train_test_split(X, y, random_state=0,test_size=0.2)\n",
    "\n",
    "# Instantiate the model\n",
    "model = LinearRegression()\n",
    "\n",
    "# Train the model on the training data\n",
    "model.fit(X_train,y_train)\n",
    "\n",
    "# Get the predictions on the training and test sets\n",
    "train_preds = model.predict(X_train)\n",
    "test_preds = model.predict(X_test)\n",
    "\n",
    "# Calculate the mean squared error (MSE) for the training set and test set predictions\n",
    "train_mse = 1/len(y_train)*np.sum((train_preds-y_train)**2)\n",
    "test_mse = 1/len(y_test)*np.sum((test_preds-y_test)**2)\n",
    "print('MSE train: {:.3f}, test: {:.3f}'.format(train_mse,test_mse))"
   ]
  },
  {
   "cell_type": "markdown",
   "metadata": {},
   "source": [
    "Great! If we compare the MSE on the test set for our new multiple linear regression model, we can see that it is a significant improvement over our original simple linear regression with just *horsepower*.  Let's now take a look at the equation which our model has generated"
   ]
  },
  {
   "cell_type": "code",
   "execution_count": 44,
   "metadata": {},
   "outputs": [
    {
     "name": "stdout",
     "output_type": "stream",
     "text": [
      "y = -14.813 + -0.243*cylinders + 0.007*displacement + 0.005*horsepower + -0.007*weight + 0.154*acceleration + 0.742*year\n"
     ]
    }
   ],
   "source": [
    "# Look at the coefficients of our model\n",
    "coef = model.coef_\n",
    "intercept = model.intercept_\n",
    "\n",
    "# Print out the equation\n",
    "equation = 'y = {:.3f} + '.format(intercept) + ' + '.join(['{:.3f}*{}'.format(coef,var) for coef,var in zip(coef,X.columns)])\n",
    "print(equation)"
   ]
  },
  {
   "cell_type": "markdown",
   "metadata": {},
   "source": [
    "Above we can see the equation produced by our model to relate the input features to the output y (*mpg*)."
   ]
  },
  {
   "cell_type": "markdown",
   "metadata": {},
   "source": [
    "## LASSO Regression"
   ]
  },
  {
   "cell_type": "markdown",
   "metadata": {},
   "source": [
    "Now let's apply a LASSO regression model to our data. When we use LASSO or Ridge, it is important to first put our features on the same scale before we build our model.  If we did not do this, we might have some features which take very large numbers (e.g. year) and other features with much smaller values (e.g. # cylinders). LASSO and Ridge use the magnitude of the coefficients of each feature in calculating the penaly.  The coefficient magnitudes are influences by the magnitude of the feature values themselves.  Therefore if we have features of very different magnitudes, it influences the calculation of our regularization penalty.\n",
    "\n",
    "Scikit-Learn includes helpful functions to scale our data - in this case we will use one called `StandardScaler` below to standardize our data (so each feature has mean of 0 and standard deviation of 1 unit).\n",
    "\n",
    "When we create a LASSO model using Scikit-Learn we can choose the value of the lambda penalty factor (which the Scikit-Learn API calls \"alpha\").  In this example we will leave it set to the default value, but in a real project we would use cross-validation to find the optimal lambda value that minimizes the LASSO cost function."
   ]
  },
  {
   "cell_type": "code",
   "execution_count": 12,
   "metadata": {},
   "outputs": [],
   "source": [
    "# Define the features and target (X and y)\n",
    "X = data[['cylinders','displacement','weight','horsepower','acceleration','year']].astype(int)\n",
    "y = data['mpg'].astype(float)\n",
    "\n",
    "# Split into training and test sets\n",
    "X_train,X_test,y_train,y_test = train_test_split(X, y, random_state=0,test_size=0.2)"
   ]
  },
  {
   "cell_type": "code",
   "execution_count": 13,
   "metadata": {},
   "outputs": [
    {
     "name": "stdout",
     "output_type": "stream",
     "text": [
      "MSE on the test set is 13.124\n"
     ]
    }
   ],
   "source": [
    "# First we scale our data - remember, only use the training data to fit the scaler\n",
    "from sklearn.preprocessing import StandardScaler\n",
    "scaler = StandardScaler()\n",
    "X_train_scaled = scaler.fit_transform(X_train)\n",
    "X_test_scaled = scaler.transform(X_test)\n",
    "\n",
    "# Run a LASSO model using the default lambda (which is called alpha in SKLearn) of 1.0\n",
    "from sklearn.linear_model import Lasso\n",
    "lasso_model = Lasso()\n",
    "lasso_model.fit(X_train_scaled,y_train)\n",
    "test_preds = lasso_model.predict(X_test_scaled)\n",
    "mse_test = 1/y_test.shape[0]*np.sum((test_preds-y_test)**2)\n",
    "print('MSE on the test set is {:.3f}'.format(mse_test))"
   ]
  },
  {
   "cell_type": "code",
   "execution_count": 14,
   "metadata": {},
   "outputs": [
    {
     "name": "stdout",
     "output_type": "stream",
     "text": [
      "y = 23.482 + -0.000*cylinders + -0.000*displacement + -4.793*weight + -0.092*horsepower + 0.000*acceleration + 1.951*year\n"
     ]
    },
    {
     "data": {
      "image/png": "[encoded data removed]",
      "text/plain": [
       "<Figure size 432x288 with 1 Axes>"
      ]
     },
     "metadata": {
      "needs_background": "light"
     },
     "output_type": "display_data"
    }
   ],
   "source": [
    "# Get the equation for the LASSO model\n",
    "coef = lasso_model.coef_\n",
    "intercept = lasso_model.intercept_\n",
    "\n",
    "# Print out the equation\n",
    "equation = 'y = {:.3f} + '.format(intercept) + ' + '.join(['{:.3f}*{}'.format(coef,var) for coef,var in zip(coef,X.columns)])\n",
    "print(equation)\n",
    "\n",
    "# Plot the coefficients\n",
    "plt.barh(X.columns,coef)\n",
    "plt.axvline(x=0, color='.5')\n",
    "plt.show()"
   ]
  },
  {
   "cell_type": "markdown",
   "metadata": {},
   "source": [
    "As we can see above, our LASSO model zeroed out several of our model coefficients, leaving only weight, horsepower, and year in our final model."
   ]
  },
  {
   "cell_type": "markdown",
   "metadata": {},
   "source": [
    "## Ridge Regression\n",
    "Let's now run a Ridge regression model on our data.  Again, as with LASSO we first need to scale our data before we can run Ridge regression."
   ]
  },
  {
   "cell_type": "code",
   "execution_count": 18,
   "metadata": {},
   "outputs": [
    {
     "name": "stdout",
     "output_type": "stream",
     "text": [
      "MSE on the test set is 11.917\n"
     ]
    }
   ],
   "source": [
    "# First we scale our data - remember, only use the training data to fit the scaler\n",
    "from sklearn.preprocessing import StandardScaler\n",
    "scaler = StandardScaler()\n",
    "X_train_scaled = scaler.fit_transform(X_train)\n",
    "X_test_scaled = scaler.transform(X_test)\n",
    "\n",
    "# Run a Ridge model using the default lambda value in sklearn (called alpha in sklearn)\n",
    "from sklearn.linear_model import Ridge\n",
    "ridge_model = Ridge()\n",
    "ridge_model.fit(X_train_scaled,y_train)\n",
    "test_preds = ridge_model.predict(X_test_scaled)\n",
    "mse_test = 1/y_test.shape[0]*np.sum((test_preds-y_test)**2)\n",
    "print('MSE on the test set is {:.3f}'.format(mse_test))"
   ]
  },
  {
   "cell_type": "code",
   "execution_count": 20,
   "metadata": {
    "scrolled": true
   },
   "outputs": [
    {
     "name": "stdout",
     "output_type": "stream",
     "text": [
      "Equation of Ridge model:\n",
      "y = 23.482 + -0.403*cylinders + 0.567*displacement + -5.728*weight + 0.095*horsepower + 0.380*acceleration + 2.692*year\n"
     ]
    },
    {
     "data": {
      "image/png": "[encoded data removed]",
      "text/plain": [
       "<Figure size 432x288 with 1 Axes>"
      ]
     },
     "metadata": {
      "needs_background": "light"
     },
     "output_type": "display_data"
    }
   ],
   "source": [
    "# Display final model and plot the coefficients\n",
    "coef = ridge_model.coef_\n",
    "intercept = ridge_model.intercept_\n",
    "equation = 'y = {:.3f} + '.format(intercept) + ' + '.join(['{:.3f}*{}'.format(coef,var) for coef,var in zip(coef,X.columns)])\n",
    "print('Equation of Ridge model:')\n",
    "print(equation)\n",
    "plt.barh(X.columns,coef)\n",
    "plt.axvline(x=0, color='.5')\n",
    "plt.show()"
   ]
  },
  {
   "cell_type": "markdown",
   "metadata": {},
   "source": [
    "As we can see in the equation above, unlike LASSO our Ridge model did not zero out any of the coefficients.  It simply found the optimal value of the coefficents that resulted in the minimum of its cost function, which includes both the model performance (SSE) and the penalty factor."
   ]
  }
 ],
 "metadata": {
  "kernelspec": {
   "display_name": "Python 3",
   "language": "python",
   "name": "python3"
  },
  "language_info": {
   "codemirror_mode": {
    "name": "ipython",
    "version": 3
   },
   "file_extension": ".py",
   "mimetype": "text/x-python",
   "name": "python",
   "nbconvert_exporter": "python",
   "pygments_lexer": "ipython3",
   "version": "3.7.9"
  }
 },
 "nbformat": 4,
 "nbformat_minor": 4
}
