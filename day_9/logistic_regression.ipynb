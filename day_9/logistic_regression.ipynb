{
 "cells": [
  {
   "cell_type": "markdown",
   "metadata": {},
   "source": [
    "<a href='https://ai.meng.duke.edu'> = <img align=\"left\" style=\"padding-top:10px;\" src=https://storage.googleapis.com/aipi_datasets/Duke-AIPI-Logo.png>"
   ]
  },
  {
   "cell_type": "markdown",
   "metadata": {},
   "source": [
    "# Logistic Regression"
   ]
  },
  {
   "cell_type": "code",
   "execution_count": 2,
   "metadata": {},
   "outputs": [],
   "source": [
    "# Import the libraries we know we need\n",
    "import numpy as np\n",
    "import pandas as pd\n",
    "import matplotlib.pyplot as plt\n",
    "import seaborn as sns\n",
    "from sklearn.model_selection import train_test_split\n",
    "from sklearn.linear_model import LogisticRegression\n",
    "from sklearn.metrics import roc_auc_score,accuracy_score,confusion_matrix\n",
    "from sklearn.model_selection import KFold\n",
    "from sklearn.model_selection import cross_val_score\n",
    "from matplotlib.colors import ListedColormap\n",
    "\n",
    "import warnings\n",
    "warnings.filterwarnings(\"ignore\")"
   ]
  },
  {
   "cell_type": "markdown",
   "metadata": {},
   "source": [
    "We are going to use a dataset from the University of Wisconsin which contains features of the cell nuclei present in biopsies of breast masses.  Our objective with this exercise is to predict is whether a mass from a biopsy is malignant or benign, based on characteristics of the cells.  Description of the dataset can be found here: https://archive.ics.uci.edu/ml/datasets/Breast+Cancer+Wisconsin+(Diagnostic)"
   ]
  },
  {
   "cell_type": "code",
   "execution_count": 3,
   "metadata": {},
   "outputs": [
    {
     "data": {
      "text/html": [
       "<div>\n",
       "<style scoped>\n",
       "    .dataframe tbody tr th:only-of-type {\n",
       "        vertical-align: middle;\n",
       "    }\n",
       "\n",
       "    .dataframe tbody tr th {\n",
       "        vertical-align: top;\n",
       "    }\n",
       "\n",
       "    .dataframe thead th {\n",
       "        text-align: right;\n",
       "    }\n",
       "</style>\n",
       "<table border=\"1\" class=\"dataframe\">\n",
       "  <thead>\n",
       "    <tr style=\"text-align: right;\">\n",
       "      <th></th>\n",
       "      <th>mean radius</th>\n",
       "      <th>mean texture</th>\n",
       "      <th>mean perimeter</th>\n",
       "      <th>mean area</th>\n",
       "      <th>mean smoothness</th>\n",
       "      <th>mean compactness</th>\n",
       "      <th>mean concavity</th>\n",
       "      <th>mean concave points</th>\n",
       "      <th>mean symmetry</th>\n",
       "      <th>mean fractal dimension</th>\n",
       "      <th>...</th>\n",
       "      <th>worst radius</th>\n",
       "      <th>worst texture</th>\n",
       "      <th>worst perimeter</th>\n",
       "      <th>worst area</th>\n",
       "      <th>worst smoothness</th>\n",
       "      <th>worst compactness</th>\n",
       "      <th>worst concavity</th>\n",
       "      <th>worst concave points</th>\n",
       "      <th>worst symmetry</th>\n",
       "      <th>worst fractal dimension</th>\n",
       "    </tr>\n",
       "  </thead>\n",
       "  <tbody>\n",
       "    <tr>\n",
       "      <th>0</th>\n",
       "      <td>17.99</td>\n",
       "      <td>10.38</td>\n",
       "      <td>122.80</td>\n",
       "      <td>1001.0</td>\n",
       "      <td>0.11840</td>\n",
       "      <td>0.27760</td>\n",
       "      <td>0.3001</td>\n",
       "      <td>0.14710</td>\n",
       "      <td>0.2419</td>\n",
       "      <td>0.07871</td>\n",
       "      <td>...</td>\n",
       "      <td>25.38</td>\n",
       "      <td>17.33</td>\n",
       "      <td>184.60</td>\n",
       "      <td>2019.0</td>\n",
       "      <td>0.1622</td>\n",
       "      <td>0.6656</td>\n",
       "      <td>0.7119</td>\n",
       "      <td>0.2654</td>\n",
       "      <td>0.4601</td>\n",
       "      <td>0.11890</td>\n",
       "    </tr>\n",
       "    <tr>\n",
       "      <th>1</th>\n",
       "      <td>20.57</td>\n",
       "      <td>17.77</td>\n",
       "      <td>132.90</td>\n",
       "      <td>1326.0</td>\n",
       "      <td>0.08474</td>\n",
       "      <td>0.07864</td>\n",
       "      <td>0.0869</td>\n",
       "      <td>0.07017</td>\n",
       "      <td>0.1812</td>\n",
       "      <td>0.05667</td>\n",
       "      <td>...</td>\n",
       "      <td>24.99</td>\n",
       "      <td>23.41</td>\n",
       "      <td>158.80</td>\n",
       "      <td>1956.0</td>\n",
       "      <td>0.1238</td>\n",
       "      <td>0.1866</td>\n",
       "      <td>0.2416</td>\n",
       "      <td>0.1860</td>\n",
       "      <td>0.2750</td>\n",
       "      <td>0.08902</td>\n",
       "    </tr>\n",
       "    <tr>\n",
       "      <th>2</th>\n",
       "      <td>19.69</td>\n",
       "      <td>21.25</td>\n",
       "      <td>130.00</td>\n",
       "      <td>1203.0</td>\n",
       "      <td>0.10960</td>\n",
       "      <td>0.15990</td>\n",
       "      <td>0.1974</td>\n",
       "      <td>0.12790</td>\n",
       "      <td>0.2069</td>\n",
       "      <td>0.05999</td>\n",
       "      <td>...</td>\n",
       "      <td>23.57</td>\n",
       "      <td>25.53</td>\n",
       "      <td>152.50</td>\n",
       "      <td>1709.0</td>\n",
       "      <td>0.1444</td>\n",
       "      <td>0.4245</td>\n",
       "      <td>0.4504</td>\n",
       "      <td>0.2430</td>\n",
       "      <td>0.3613</td>\n",
       "      <td>0.08758</td>\n",
       "    </tr>\n",
       "    <tr>\n",
       "      <th>3</th>\n",
       "      <td>11.42</td>\n",
       "      <td>20.38</td>\n",
       "      <td>77.58</td>\n",
       "      <td>386.1</td>\n",
       "      <td>0.14250</td>\n",
       "      <td>0.28390</td>\n",
       "      <td>0.2414</td>\n",
       "      <td>0.10520</td>\n",
       "      <td>0.2597</td>\n",
       "      <td>0.09744</td>\n",
       "      <td>...</td>\n",
       "      <td>14.91</td>\n",
       "      <td>26.50</td>\n",
       "      <td>98.87</td>\n",
       "      <td>567.7</td>\n",
       "      <td>0.2098</td>\n",
       "      <td>0.8663</td>\n",
       "      <td>0.6869</td>\n",
       "      <td>0.2575</td>\n",
       "      <td>0.6638</td>\n",
       "      <td>0.17300</td>\n",
       "    </tr>\n",
       "    <tr>\n",
       "      <th>4</th>\n",
       "      <td>20.29</td>\n",
       "      <td>14.34</td>\n",
       "      <td>135.10</td>\n",
       "      <td>1297.0</td>\n",
       "      <td>0.10030</td>\n",
       "      <td>0.13280</td>\n",
       "      <td>0.1980</td>\n",
       "      <td>0.10430</td>\n",
       "      <td>0.1809</td>\n",
       "      <td>0.05883</td>\n",
       "      <td>...</td>\n",
       "      <td>22.54</td>\n",
       "      <td>16.67</td>\n",
       "      <td>152.20</td>\n",
       "      <td>1575.0</td>\n",
       "      <td>0.1374</td>\n",
       "      <td>0.2050</td>\n",
       "      <td>0.4000</td>\n",
       "      <td>0.1625</td>\n",
       "      <td>0.2364</td>\n",
       "      <td>0.07678</td>\n",
       "    </tr>\n",
       "  </tbody>\n",
       "</table>\n",
       "<p>5 rows × 30 columns</p>\n",
       "</div>"
      ],
      "text/plain": [
       "   mean radius  mean texture  mean perimeter  mean area  mean smoothness  \\\n",
       "0        17.99         10.38          122.80     1001.0          0.11840   \n",
       "1        20.57         17.77          132.90     1326.0          0.08474   \n",
       "2        19.69         21.25          130.00     1203.0          0.10960   \n",
       "3        11.42         20.38           77.58      386.1          0.14250   \n",
       "4        20.29         14.34          135.10     1297.0          0.10030   \n",
       "\n",
       "   mean compactness  mean concavity  mean concave points  mean symmetry  \\\n",
       "0           0.27760          0.3001              0.14710         0.2419   \n",
       "1           0.07864          0.0869              0.07017         0.1812   \n",
       "2           0.15990          0.1974              0.12790         0.2069   \n",
       "3           0.28390          0.2414              0.10520         0.2597   \n",
       "4           0.13280          0.1980              0.10430         0.1809   \n",
       "\n",
       "   mean fractal dimension  ...  worst radius  worst texture  worst perimeter  \\\n",
       "0                 0.07871  ...         25.38          17.33           184.60   \n",
       "1                 0.05667  ...         24.99          23.41           158.80   \n",
       "2                 0.05999  ...         23.57          25.53           152.50   \n",
       "3                 0.09744  ...         14.91          26.50            98.87   \n",
       "4                 0.05883  ...         22.54          16.67           152.20   \n",
       "\n",
       "   worst area  worst smoothness  worst compactness  worst concavity  \\\n",
       "0      2019.0            0.1622             0.6656           0.7119   \n",
       "1      1956.0            0.1238             0.1866           0.2416   \n",
       "2      1709.0            0.1444             0.4245           0.4504   \n",
       "3       567.7            0.2098             0.8663           0.6869   \n",
       "4      1575.0            0.1374             0.2050           0.4000   \n",
       "\n",
       "   worst concave points  worst symmetry  worst fractal dimension  \n",
       "0                0.2654          0.4601                  0.11890  \n",
       "1                0.1860          0.2750                  0.08902  \n",
       "2                0.2430          0.3613                  0.08758  \n",
       "3                0.2575          0.6638                  0.17300  \n",
       "4                0.1625          0.2364                  0.07678  \n",
       "\n",
       "[5 rows x 30 columns]"
      ]
     },
     "execution_count": 3,
     "metadata": {},
     "output_type": "execute_result"
    }
   ],
   "source": [
    "from sklearn.datasets import load_breast_cancer\n",
    "data=load_breast_cancer(as_frame=True)\n",
    "X,y=data.data,data.target\n",
    "# Since the default in the file is 0=malignant 1=benign we want to reverse these so 1=malignant, which is what we want to identify\n",
    "y=(y==0).astype(int)\n",
    "X.head()"
   ]
  },
  {
   "cell_type": "markdown",
   "metadata": {},
   "source": [
    "First let's split our data and reserve a test set of 20% of the data for use in evaluating our model.  Then, to help things converge we will use `StandardScaler` to scale our data before modeling (not necessary in this case, but helpful)"
   ]
  },
  {
   "cell_type": "code",
   "execution_count": 4,
   "metadata": {},
   "outputs": [],
   "source": [
    "# Let's set aside a test set and use the remainder for training and cross-validation\n",
    "X_train,X_test,y_train,y_test = train_test_split(X, y, random_state=0,test_size=0.2)\n",
    "\n",
    "# Let's scale the inputs to help it converge more easily\n",
    "from sklearn.preprocessing import StandardScaler\n",
    "scaler = StandardScaler()\n",
    "X_train_scaled = scaler.fit_transform(X_train)\n",
    "X_test_scaled = scaler.transform(X_test)"
   ]
  },
  {
   "cell_type": "markdown",
   "metadata": {},
   "source": [
    "## Logistic regression using Scikit Learn"
   ]
  },
  {
   "cell_type": "markdown",
   "metadata": {},
   "source": [
    "Scikit-Learn makes it very easy to create and train a logistic regression model on our data.  Note that by default the implementation of logistic regression in Scikit-Learn includes a regularization penalty factor to help reduce overfitting.  We could turn this off if we want by specifying `penalty='none'` but in this case we will leave it on."
   ]
  },
  {
   "cell_type": "code",
   "execution_count": 8,
   "metadata": {},
   "outputs": [
    {
     "name": "stdout",
     "output_type": "stream",
     "text": [
      "Accuracy on the test set is 0.965\n"
     ]
    }
   ],
   "source": [
    "# Instantiate a logistic regression model\n",
    "model = LogisticRegression()\n",
    "# Fit the model to the training data\n",
    "model.fit(X_train_scaled,y_train)\n",
    "# Use the trained model to generate predictions on the test set\n",
    "test_preds = model.predict(X_test_scaled)\n",
    "# Calculate the accuracy of the test set predictions\n",
    "acc_score = accuracy_score(y_test,test_preds)\n",
    "print('Accuracy on the test set is {:.3f}'.format(acc_score))"
   ]
  },
  {
   "cell_type": "markdown",
   "metadata": {},
   "source": [
    "Great! We've achieved an impressive accuracy on the test set with our logistic regression model.  Let's now visualize the decision boundary created by the model to differentiate between the two classes (0 and 1).  Since we as humans like to visualize in 2D, let's create a new model using only 2 features so we can then plot things on a 2d plot."
   ]
  },
  {
   "cell_type": "code",
   "execution_count": 10,
   "metadata": {},
   "outputs": [],
   "source": [
    "# Function to visualize the decision boundaries of a classification model\n",
    "def plot_decision_boundaries(X,y,model):\n",
    "    markers = ['^','s','v','o','x']\n",
    "    colors = ['yellow','green','purple','blue','orange']\n",
    "    cmap = ListedColormap(colors[:len(np.unique(y))])\n",
    "    \n",
    "    for i,k in enumerate(np.unique(y)):\n",
    "        plt.scatter(X.loc[y==k].iloc[:,0],X.loc[y==k].iloc[:,1],\n",
    "                    c=colors[i],marker=markers[i],label=k,edgecolor='black')\n",
    "\n",
    "    xgrid = np.arange(X.iloc[:,0].min(),X.iloc[:,0].max(),\n",
    "                      (X.iloc[:,0].max()-X.iloc[:,0].min())/500)\n",
    "    ygrid = np.arange(X.iloc[:,1].min(),X.iloc[:,1].max(),\n",
    "                      (X.iloc[:,1].max()-X.iloc[:,1].min())/500)\n",
    "    xx,yy = np.meshgrid(xgrid,ygrid)\n",
    "    mesh_preds = model.predict(np.c_[xx.ravel(),yy.ravel()])\n",
    "    mesh_preds = mesh_preds.reshape(xx.shape)\n",
    "    plt.contourf(xx,yy,mesh_preds,alpha=0.2,cmap=cmap)\n",
    "    plt.legend()\n",
    "    return"
   ]
  },
  {
   "cell_type": "code",
   "execution_count": 11,
   "metadata": {},
   "outputs": [
    {
     "data": {
      "image/png": "[encoded data removed]",
      "text/plain": [
       "<Figure size 720x576 with 1 Axes>"
      ]
     },
     "metadata": {
      "needs_background": "light"
     },
     "output_type": "display_data"
    }
   ],
   "source": [
    "# Let's create a model using just two features so we can visualize it\n",
    "X_train_2feats = X_train[['worst concave points','worst area']]\n",
    "model_2feats = LogisticRegression(penalty='none')\n",
    "model_2feats.fit(X_train_2feats,y_train)\n",
    "\n",
    "# Plot the decision boundaries of the model using the two features as the axes\n",
    "plt.figure(figsize=(10,8))\n",
    "plot_decision_boundaries(X_train_2feats,y_train,model_2feats)\n",
    "plt.xlabel('worst concave points')\n",
    "plt.ylabel('worst area')\n",
    "plt.title('Identifying malignant tumors')\n",
    "plt.show()"
   ]
  },
  {
   "cell_type": "markdown",
   "metadata": {},
   "source": [
    "As we can see, the decision boundary between malignant and benign tumors created by our model is a straight line.  This makes sense, because logistic regression is a linear model (because it uses a linear combination of the features multiplied by the weights).\n",
    "\n",
    "If you are curious about how to create a logistic regression model by hand rather than using Scikit-Learn, keep reading below.  Otherwise, you can skip to the \"Multiclass logistic regression\" section."
   ]
  },
  {
   "cell_type": "markdown",
   "metadata": {},
   "source": [
    "## [OPTIONAL] Logistic regression using batch gradient descent"
   ]
  },
  {
   "cell_type": "code",
   "execution_count": 5,
   "metadata": {},
   "outputs": [],
   "source": [
    "def sigmoid(z):\n",
    "    # Calculate the sigmoid\n",
    "    sig = 1. / (1. + np.exp(-z))\n",
    "    #sig = 1. / (1. + np.exp(-np.clip(logits,-100,100)))\n",
    "    return sig\n",
    "\n",
    "def NLL_batch_gradient_descent(X,y,weights,learning_rate,n_iterations):\n",
    "    # Perform gradient descent to calculate weights that minimize the NLL cost function\n",
    "    epsilon = 1e-10 # Add tiny value to avoid getting nan values from log(0)\n",
    "    cost_path = []\n",
    "    for i in range(n_iterations):\n",
    "        # Calculate the cost\n",
    "        z = X.dot(weights)\n",
    "        cost = -np.sum(y*(np.log(sigmoid(z)+epsilon))+(1.-y)*(np.log(1.-sigmoid(z)+epsilon)))\n",
    "        # OR USE LINALG: cost = -(y.dot(np.log(sigmoid(z)+epsilon))+(1.-y).dot(np.log(1.-sigmoid(z)+epsilon)))\n",
    "        cost_path.append(cost)\n",
    "        # Calculate the gradient\n",
    "        gradient = -X.T.dot(y-sigmoid(z))\n",
    "        # Adjust the weights, moving in the direction opposite the gradient\n",
    "        weights = weights - learning_rate * gradient\n",
    "    return weights,cost_path"
   ]
  },
  {
   "cell_type": "code",
   "execution_count": 6,
   "metadata": {},
   "outputs": [
    {
     "data": {
      "image/png": "[encoded data removed]",
      "text/plain": [
       "<Figure size 432x288 with 1 Axes>"
      ]
     },
     "metadata": {
      "needs_background": "light"
     },
     "output_type": "display_data"
    }
   ],
   "source": [
    "# Run gradient descent to get the weights that minimize our cost NLL\n",
    "n_iterations = 1000\n",
    "learning_rate = 0.01\n",
    "\n",
    "# Initialize the weights to random numbers\n",
    "rand_gen = np.random.RandomState(1)\n",
    "weights_init = rand_gen.normal(loc=0.0,scale=0.1,size=X_train.shape[1])\n",
    "\n",
    "# Run logistic regression with gradient descent\n",
    "weights_opt,cost_path = NLL_batch_gradient_descent(X_train_scaled,y_train,weights_init,\n",
    "                                                       learning_rate,n_iterations)\n",
    "plt.plot(range(n_iterations),cost_path)\n",
    "plt.xlabel('iteration')\n",
    "plt.ylabel('cost')\n",
    "plt.show()"
   ]
  },
  {
   "cell_type": "code",
   "execution_count": 9,
   "metadata": {},
   "outputs": [
    {
     "name": "stdout",
     "output_type": "stream",
     "text": [
      "Accuracy is 0.965\n"
     ]
    }
   ],
   "source": [
    "# Use our model to generate predictions and calculate accuracy\n",
    "test_preds_probs = sigmoid(X_test_scaled.dot(weights_opt))\n",
    "\n",
    "# Convert predicted probabilities to class predictions\n",
    "test_preds = np.round(test_preds_probs).astype(int)\n",
    "\n",
    "acc_score = accuracy_score(y_test,test_preds)\n",
    "print('Accuracy is {:.3f}'.format(acc_score))"
   ]
  },
  {
   "cell_type": "markdown",
   "metadata": {},
   "source": [
    "## Multiclass logistic regression (Softmax regression)"
   ]
  },
  {
   "cell_type": "markdown",
   "metadata": {},
   "source": [
    "To demonstrate how to create a multiclass linear regression in Scikit-Learn, we will use the \"iris\" dataset we have seen before of iris flowers.  This dataset contains 4 features of the flowers and our objective is to classify the flowers into one of three species of iris.\n",
    "\n",
    "In order to visualize what is going on, we are going to use a subset of just two of the four features for our model so that we can plot the decision boundaries it creates between the three classes."
   ]
  },
  {
   "cell_type": "code",
   "execution_count": 15,
   "metadata": {},
   "outputs": [
    {
     "data": {
      "text/html": [
       "<div>\n",
       "<style scoped>\n",
       "    .dataframe tbody tr th:only-of-type {\n",
       "        vertical-align: middle;\n",
       "    }\n",
       "\n",
       "    .dataframe tbody tr th {\n",
       "        vertical-align: top;\n",
       "    }\n",
       "\n",
       "    .dataframe thead th {\n",
       "        text-align: right;\n",
       "    }\n",
       "</style>\n",
       "<table border=\"1\" class=\"dataframe\">\n",
       "  <thead>\n",
       "    <tr style=\"text-align: right;\">\n",
       "      <th></th>\n",
       "      <th>sepal_length</th>\n",
       "      <th>sepal_width</th>\n",
       "      <th>petal_length</th>\n",
       "      <th>petal_width</th>\n",
       "      <th>species</th>\n",
       "    </tr>\n",
       "  </thead>\n",
       "  <tbody>\n",
       "    <tr>\n",
       "      <th>0</th>\n",
       "      <td>5.1</td>\n",
       "      <td>3.5</td>\n",
       "      <td>1.4</td>\n",
       "      <td>0.2</td>\n",
       "      <td>setosa</td>\n",
       "    </tr>\n",
       "    <tr>\n",
       "      <th>1</th>\n",
       "      <td>4.9</td>\n",
       "      <td>3.0</td>\n",
       "      <td>1.4</td>\n",
       "      <td>0.2</td>\n",
       "      <td>setosa</td>\n",
       "    </tr>\n",
       "    <tr>\n",
       "      <th>2</th>\n",
       "      <td>4.7</td>\n",
       "      <td>3.2</td>\n",
       "      <td>1.3</td>\n",
       "      <td>0.2</td>\n",
       "      <td>setosa</td>\n",
       "    </tr>\n",
       "    <tr>\n",
       "      <th>3</th>\n",
       "      <td>4.6</td>\n",
       "      <td>3.1</td>\n",
       "      <td>1.5</td>\n",
       "      <td>0.2</td>\n",
       "      <td>setosa</td>\n",
       "    </tr>\n",
       "    <tr>\n",
       "      <th>4</th>\n",
       "      <td>5.0</td>\n",
       "      <td>3.6</td>\n",
       "      <td>1.4</td>\n",
       "      <td>0.2</td>\n",
       "      <td>setosa</td>\n",
       "    </tr>\n",
       "  </tbody>\n",
       "</table>\n",
       "</div>"
      ],
      "text/plain": [
       "   sepal_length  sepal_width  petal_length  petal_width species\n",
       "0           5.1          3.5           1.4          0.2  setosa\n",
       "1           4.9          3.0           1.4          0.2  setosa\n",
       "2           4.7          3.2           1.3          0.2  setosa\n",
       "3           4.6          3.1           1.5          0.2  setosa\n",
       "4           5.0          3.6           1.4          0.2  setosa"
      ]
     },
     "execution_count": 15,
     "metadata": {},
     "output_type": "execute_result"
    }
   ],
   "source": [
    "# Load the dataset using a helper function in Seaborn\n",
    "iris = sns.load_dataset('iris')\n",
    "iris.head()"
   ]
  },
  {
   "cell_type": "code",
   "execution_count": 16,
   "metadata": {},
   "outputs": [
    {
     "data": {
      "text/plain": [
       "array(['setosa', 'versicolor', 'virginica'], dtype=object)"
      ]
     },
     "execution_count": 16,
     "metadata": {},
     "output_type": "execute_result"
    }
   ],
   "source": [
    "# What are the target classes?\n",
    "pd.unique(iris['species'])"
   ]
  },
  {
   "cell_type": "code",
   "execution_count": 17,
   "metadata": {},
   "outputs": [],
   "source": [
    "# Create feature matrix using just 2 features\n",
    "X = iris[['sepal_length','sepal_width']]\n",
    "\n",
    "# Create target vector and convert to numeric codes (not required, but used for visualization)\n",
    "y = iris['species']\n",
    "y_numeric_dict={'setosa':1,'versicolor':2,'virginica':3}\n",
    "y = y.apply(lambda x: y_numeric_dict[x])\n",
    "\n",
    "# Split into training and test sets\n",
    "X_train,X_test,y_train,y_test = train_test_split(X, y, random_state=0,test_size=0.2)"
   ]
  },
  {
   "cell_type": "code",
   "execution_count": 18,
   "metadata": {},
   "outputs": [
    {
     "data": {
      "image/png": "[encoded data removed]",
      "text/plain": [
       "<Figure size 432x288 with 2 Axes>"
      ]
     },
     "metadata": {
      "needs_background": "light"
     },
     "output_type": "display_data"
    }
   ],
   "source": [
    "# Train a multi-class softmax regression model and get the test set predictions\n",
    "model = LogisticRegression(penalty='l2',C=1.0,multi_class='multinomial')\n",
    "model.fit(X_train,y_train)\n",
    "test_preds = model.predict(X_test)\n",
    "\n",
    "# Display the confusion matrix\n",
    "from sklearn.metrics import plot_confusion_matrix\n",
    "plot_confusion_matrix(model, X_test, y_test,cmap=plt.cm.Blues,normalize=None)\n",
    "plt.show()"
   ]
  },
  {
   "cell_type": "markdown",
   "metadata": {},
   "source": [
    "As we can see on the confusion matrix, our model is doing a pretty good job differentiating between the three species.  It seems to struggle a bit between classes 2 (versicolor) and 3 (virginica).  Let's now use our function to visualize the decision boundaries between the three classes."
   ]
  },
  {
   "cell_type": "code",
   "execution_count": 20,
   "metadata": {},
   "outputs": [],
   "source": [
    "# Visualize the decision boundaries\n",
    "def plot_decision_boundaries(X,y,model):\n",
    "    markers = ['^','s','v','o','x']\n",
    "    colors = ['yellow','green','purple','blue','orange']\n",
    "    cmap = ListedColormap(colors[:len(np.unique(y))])\n",
    "    \n",
    "    for i,k in enumerate(np.unique(y)):\n",
    "        plt.scatter(X.loc[y==k].iloc[:,0],X.loc[y==k].iloc[:,1],\n",
    "                    c=colors[i],marker=markers[i],label=k,edgecolor='black')\n",
    "\n",
    "    xgrid = np.arange(X.iloc[:,0].min(),X.iloc[:,0].max(),\n",
    "                      (X.iloc[:,0].max()-X.iloc[:,0].min())/500)\n",
    "    ygrid = np.arange(X.iloc[:,1].min(),X.iloc[:,1].max(),\n",
    "                      (X.iloc[:,1].max()-X.iloc[:,1].min())/500)\n",
    "    xx,yy = np.meshgrid(xgrid,ygrid)\n",
    "    mesh_preds = model.predict(np.c_[xx.ravel(),yy.ravel()])\n",
    "    mesh_preds = mesh_preds.reshape(xx.shape)\n",
    "    plt.contourf(xx,yy,mesh_preds,alpha=0.2,cmap=cmap)\n",
    "    plt.legend()\n",
    "    return"
   ]
  },
  {
   "cell_type": "code",
   "execution_count": 21,
   "metadata": {},
   "outputs": [
    {
     "data": {
      "image/png": "[encoded data removed]",
      "text/plain": [
       "<Figure size 576x432 with 1 Axes>"
      ]
     },
     "metadata": {
      "needs_background": "light"
     },
     "output_type": "display_data"
    }
   ],
   "source": [
    "# Plot the decision boundary using our function\n",
    "plt.figure(figsize=(8,6))\n",
    "plot_decision_boundaries(X,y,model)\n",
    "plt.xlabel('sepal_length')\n",
    "plt.ylabel('sepal_width')\n",
    "plt.show()"
   ]
  },
  {
   "cell_type": "markdown",
   "metadata": {},
   "source": [
    "Above we can see the decision boundaries that our logistic regression model has created, using the two features to differentiate between the three classes of iris. The shading of each region represents the predicted class of that region, and the color and shape of the symbol used for each point shows us the actual class of each point."
   ]
  }
 ],
 "metadata": {
  "kernelspec": {
   "display_name": "Python 3",
   "language": "python",
   "name": "python3"
  },
  "language_info": {
   "codemirror_mode": {
    "name": "ipython",
    "version": 3
   },
   "file_extension": ".py",
   "mimetype": "text/x-python",
   "name": "python",
   "nbconvert_exporter": "python",
   "pygments_lexer": "ipython3",
   "version": "3.7.9"
  }
 },
 "nbformat": 4,
 "nbformat_minor": 4
}
