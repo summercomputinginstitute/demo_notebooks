{
 "cells": [
  {
   "cell_type": "markdown",
   "metadata": {},
   "source": [
    "<a href='https://ai.meng.duke.edu'> = <img align=\"left\" style=\"padding-top:10px;\" src=https://storage.googleapis.com/aipi_datasets/Duke-AIPI-Logo.png>"
   ]
  },
  {
   "cell_type": "markdown",
   "metadata": {},
   "source": [
    "# Artificial Neurons and Neural Networks"
   ]
  },
  {
   "cell_type": "code",
   "execution_count": 1,
   "metadata": {},
   "outputs": [],
   "source": [
    "import pandas as pd\n",
    "import numpy as np\n",
    "import matplotlib.pyplot as plt\n",
    "from matplotlib.colors import ListedColormap\n",
    "import seaborn as sns\n",
    "from sklearn.model_selection import train_test_split\n",
    "from sklearn.preprocessing import StandardScaler\n",
    "from sklearn.neural_network import MLPClassifier\n",
    "\n",
    "import warnings\n",
    "warnings.filterwarnings(\"ignore\")"
   ]
  },
  {
   "cell_type": "markdown",
   "metadata": {},
   "source": [
    "In this example notebook we will again be working with the breast cancer dataset from the University of Wisconsin."
   ]
  },
  {
   "cell_type": "code",
   "execution_count": 2,
   "metadata": {},
   "outputs": [
    {
     "data": {
      "text/html": [
       "<div>\n",
       "<style scoped>\n",
       "    .dataframe tbody tr th:only-of-type {\n",
       "        vertical-align: middle;\n",
       "    }\n",
       "\n",
       "    .dataframe tbody tr th {\n",
       "        vertical-align: top;\n",
       "    }\n",
       "\n",
       "    .dataframe thead th {\n",
       "        text-align: right;\n",
       "    }\n",
       "</style>\n",
       "<table border=\"1\" class=\"dataframe\">\n",
       "  <thead>\n",
       "    <tr style=\"text-align: right;\">\n",
       "      <th></th>\n",
       "      <th>mean radius</th>\n",
       "      <th>mean texture</th>\n",
       "      <th>mean perimeter</th>\n",
       "      <th>mean area</th>\n",
       "      <th>mean smoothness</th>\n",
       "      <th>mean compactness</th>\n",
       "      <th>mean concavity</th>\n",
       "      <th>mean concave points</th>\n",
       "      <th>mean symmetry</th>\n",
       "      <th>mean fractal dimension</th>\n",
       "      <th>...</th>\n",
       "      <th>worst radius</th>\n",
       "      <th>worst texture</th>\n",
       "      <th>worst perimeter</th>\n",
       "      <th>worst area</th>\n",
       "      <th>worst smoothness</th>\n",
       "      <th>worst compactness</th>\n",
       "      <th>worst concavity</th>\n",
       "      <th>worst concave points</th>\n",
       "      <th>worst symmetry</th>\n",
       "      <th>worst fractal dimension</th>\n",
       "    </tr>\n",
       "  </thead>\n",
       "  <tbody>\n",
       "    <tr>\n",
       "      <th>0</th>\n",
       "      <td>17.99</td>\n",
       "      <td>10.38</td>\n",
       "      <td>122.80</td>\n",
       "      <td>1001.0</td>\n",
       "      <td>0.11840</td>\n",
       "      <td>0.27760</td>\n",
       "      <td>0.3001</td>\n",
       "      <td>0.14710</td>\n",
       "      <td>0.2419</td>\n",
       "      <td>0.07871</td>\n",
       "      <td>...</td>\n",
       "      <td>25.38</td>\n",
       "      <td>17.33</td>\n",
       "      <td>184.60</td>\n",
       "      <td>2019.0</td>\n",
       "      <td>0.1622</td>\n",
       "      <td>0.6656</td>\n",
       "      <td>0.7119</td>\n",
       "      <td>0.2654</td>\n",
       "      <td>0.4601</td>\n",
       "      <td>0.11890</td>\n",
       "    </tr>\n",
       "    <tr>\n",
       "      <th>1</th>\n",
       "      <td>20.57</td>\n",
       "      <td>17.77</td>\n",
       "      <td>132.90</td>\n",
       "      <td>1326.0</td>\n",
       "      <td>0.08474</td>\n",
       "      <td>0.07864</td>\n",
       "      <td>0.0869</td>\n",
       "      <td>0.07017</td>\n",
       "      <td>0.1812</td>\n",
       "      <td>0.05667</td>\n",
       "      <td>...</td>\n",
       "      <td>24.99</td>\n",
       "      <td>23.41</td>\n",
       "      <td>158.80</td>\n",
       "      <td>1956.0</td>\n",
       "      <td>0.1238</td>\n",
       "      <td>0.1866</td>\n",
       "      <td>0.2416</td>\n",
       "      <td>0.1860</td>\n",
       "      <td>0.2750</td>\n",
       "      <td>0.08902</td>\n",
       "    </tr>\n",
       "    <tr>\n",
       "      <th>2</th>\n",
       "      <td>19.69</td>\n",
       "      <td>21.25</td>\n",
       "      <td>130.00</td>\n",
       "      <td>1203.0</td>\n",
       "      <td>0.10960</td>\n",
       "      <td>0.15990</td>\n",
       "      <td>0.1974</td>\n",
       "      <td>0.12790</td>\n",
       "      <td>0.2069</td>\n",
       "      <td>0.05999</td>\n",
       "      <td>...</td>\n",
       "      <td>23.57</td>\n",
       "      <td>25.53</td>\n",
       "      <td>152.50</td>\n",
       "      <td>1709.0</td>\n",
       "      <td>0.1444</td>\n",
       "      <td>0.4245</td>\n",
       "      <td>0.4504</td>\n",
       "      <td>0.2430</td>\n",
       "      <td>0.3613</td>\n",
       "      <td>0.08758</td>\n",
       "    </tr>\n",
       "    <tr>\n",
       "      <th>3</th>\n",
       "      <td>11.42</td>\n",
       "      <td>20.38</td>\n",
       "      <td>77.58</td>\n",
       "      <td>386.1</td>\n",
       "      <td>0.14250</td>\n",
       "      <td>0.28390</td>\n",
       "      <td>0.2414</td>\n",
       "      <td>0.10520</td>\n",
       "      <td>0.2597</td>\n",
       "      <td>0.09744</td>\n",
       "      <td>...</td>\n",
       "      <td>14.91</td>\n",
       "      <td>26.50</td>\n",
       "      <td>98.87</td>\n",
       "      <td>567.7</td>\n",
       "      <td>0.2098</td>\n",
       "      <td>0.8663</td>\n",
       "      <td>0.6869</td>\n",
       "      <td>0.2575</td>\n",
       "      <td>0.6638</td>\n",
       "      <td>0.17300</td>\n",
       "    </tr>\n",
       "    <tr>\n",
       "      <th>4</th>\n",
       "      <td>20.29</td>\n",
       "      <td>14.34</td>\n",
       "      <td>135.10</td>\n",
       "      <td>1297.0</td>\n",
       "      <td>0.10030</td>\n",
       "      <td>0.13280</td>\n",
       "      <td>0.1980</td>\n",
       "      <td>0.10430</td>\n",
       "      <td>0.1809</td>\n",
       "      <td>0.05883</td>\n",
       "      <td>...</td>\n",
       "      <td>22.54</td>\n",
       "      <td>16.67</td>\n",
       "      <td>152.20</td>\n",
       "      <td>1575.0</td>\n",
       "      <td>0.1374</td>\n",
       "      <td>0.2050</td>\n",
       "      <td>0.4000</td>\n",
       "      <td>0.1625</td>\n",
       "      <td>0.2364</td>\n",
       "      <td>0.07678</td>\n",
       "    </tr>\n",
       "  </tbody>\n",
       "</table>\n",
       "<p>5 rows × 30 columns</p>\n",
       "</div>"
      ],
      "text/plain": [
       "   mean radius  mean texture  mean perimeter  mean area  mean smoothness  \\\n",
       "0        17.99         10.38          122.80     1001.0          0.11840   \n",
       "1        20.57         17.77          132.90     1326.0          0.08474   \n",
       "2        19.69         21.25          130.00     1203.0          0.10960   \n",
       "3        11.42         20.38           77.58      386.1          0.14250   \n",
       "4        20.29         14.34          135.10     1297.0          0.10030   \n",
       "\n",
       "   mean compactness  mean concavity  mean concave points  mean symmetry  \\\n",
       "0           0.27760          0.3001              0.14710         0.2419   \n",
       "1           0.07864          0.0869              0.07017         0.1812   \n",
       "2           0.15990          0.1974              0.12790         0.2069   \n",
       "3           0.28390          0.2414              0.10520         0.2597   \n",
       "4           0.13280          0.1980              0.10430         0.1809   \n",
       "\n",
       "   mean fractal dimension  ...  worst radius  worst texture  worst perimeter  \\\n",
       "0                 0.07871  ...         25.38          17.33           184.60   \n",
       "1                 0.05667  ...         24.99          23.41           158.80   \n",
       "2                 0.05999  ...         23.57          25.53           152.50   \n",
       "3                 0.09744  ...         14.91          26.50            98.87   \n",
       "4                 0.05883  ...         22.54          16.67           152.20   \n",
       "\n",
       "   worst area  worst smoothness  worst compactness  worst concavity  \\\n",
       "0      2019.0            0.1622             0.6656           0.7119   \n",
       "1      1956.0            0.1238             0.1866           0.2416   \n",
       "2      1709.0            0.1444             0.4245           0.4504   \n",
       "3       567.7            0.2098             0.8663           0.6869   \n",
       "4      1575.0            0.1374             0.2050           0.4000   \n",
       "\n",
       "   worst concave points  worst symmetry  worst fractal dimension  \n",
       "0                0.2654          0.4601                  0.11890  \n",
       "1                0.1860          0.2750                  0.08902  \n",
       "2                0.2430          0.3613                  0.08758  \n",
       "3                0.2575          0.6638                  0.17300  \n",
       "4                0.1625          0.2364                  0.07678  \n",
       "\n",
       "[5 rows x 30 columns]"
      ]
     },
     "execution_count": 2,
     "metadata": {},
     "output_type": "execute_result"
    }
   ],
   "source": [
    "from sklearn.datasets import load_breast_cancer\n",
    "data=load_breast_cancer(as_frame=True)\n",
    "X,y=data.data,data.target\n",
    "# Since the default in the file is 0=malignant 1=benign we want to reverse these\n",
    "y=(y==0).astype(int)\n",
    "X,y= np.array(X),np.array(y)\n",
    "\n",
    "# Let's set aside a test set and use the remainder for training and cross-validation\n",
    "X_train,X_test,y_train,y_test = train_test_split(X, y, random_state=0,test_size=0.2)\n",
    "\n",
    "data.data.head()"
   ]
  },
  {
   "cell_type": "code",
   "execution_count": 3,
   "metadata": {},
   "outputs": [],
   "source": [
    "# Let's scale our data to help the algorithm converge faster\n",
    "scaler = StandardScaler()\n",
    "X_train_scaled = scaler.fit_transform(X_train)\n",
    "X_test_scaled = scaler.transform(X_test)"
   ]
  },
  {
   "cell_type": "markdown",
   "metadata": {},
   "source": [
    "## Artificial Neurons: The Perceptron"
   ]
  },
  {
   "cell_type": "code",
   "execution_count": 4,
   "metadata": {},
   "outputs": [],
   "source": [
    "class Perceptron:\n",
    "    \n",
    "    def __init__(self,eta=0.01,n_iter=100,random_state=0):\n",
    "        self.eta=eta\n",
    "        self.n_iter=n_iter\n",
    "        self.random_state=random_state\n",
    "    \n",
    "    def fit(self,X,y):\n",
    "        # Initialize the weights to small random numbers\n",
    "        rgen=np.random.RandomState(self.random_state)\n",
    "        self.weights = rgen.normal(loc=0.0,scale=0.01,size=(1+X.shape[1]))\n",
    "        \n",
    "        # Train the perceptron using stochastic gradient descent\n",
    "        self.error_counts=[]\n",
    "        for i in range(self.n_iter):\n",
    "            # Keep track of errors for each iteration\n",
    "            error_count=0\n",
    "            # Stochastic gradient descent\n",
    "            for xi,yi in zip(X,y):\n",
    "                yhat = self.predict(xi)\n",
    "                error = yi-yhat\n",
    "                delta_weights = -self.eta * error * xi\n",
    "                delta_bias = -self.eta * error * 1\n",
    "                # Update the weights\n",
    "                self.weights[1:] -= delta_weights\n",
    "                # Update bias\n",
    "                self.weights[0] -= delta_bias\n",
    "                # Count errors\n",
    "                error_count += int(error != 0)\n",
    "            self.error_counts.append(error_count)\n",
    "        return self\n",
    "    \n",
    "    def predict(self,X):\n",
    "        z = np.dot(X,self.weights[1:]) + self.weights[0]\n",
    "        if z >= 0.0:\n",
    "            yhat = 1\n",
    "        else:\n",
    "            yhat = 0\n",
    "        return yhat"
   ]
  },
  {
   "cell_type": "code",
   "execution_count": 5,
   "metadata": {},
   "outputs": [
    {
     "data": {
      "image/png": "[encoded data removed]",
      "text/plain": [
       "<Figure size 432x288 with 1 Axes>"
      ]
     },
     "metadata": {
      "needs_background": "light"
     },
     "output_type": "display_data"
    }
   ],
   "source": [
    "perceptron_model = Perceptron(eta=0.01,n_iter=100)\n",
    "perceptron_model.fit(X_train_scaled,y_train)\n",
    "plt.plot(range(len(perceptron_model.error_counts)),perceptron_model.error_counts)\n",
    "plt.xlabel('Epoch')\n",
    "plt.ylabel('Error count')\n",
    "plt.show()"
   ]
  },
  {
   "cell_type": "code",
   "execution_count": 6,
   "metadata": {},
   "outputs": [
    {
     "name": "stdout",
     "output_type": "stream",
     "text": [
      "Test set accuracy is 0.939\n"
     ]
    }
   ],
   "source": [
    "test_preds = []\n",
    "for x in X_test_scaled:\n",
    "    pred = perceptron_model.predict(x)\n",
    "    test_preds.append(pred)\n",
    "test_acc = np.sum(test_preds==y_test)/len(y_test)\n",
    "print('Test set accuracy is {:.3f}'.format(test_acc))"
   ]
  },
  {
   "cell_type": "markdown",
   "metadata": {},
   "source": [
    "## Multilayer Perceptron (MLP) with Scikit Learn\n",
    "The Multilayer Perceptron model is a simple form of a neural network. We can build one very simply using Scikit-Learn's implementation.  Let's start by using a simple MLP with a single hidden layer containing 100 units and a logistic (sigmoid) activation function."
   ]
  },
  {
   "cell_type": "code",
   "execution_count": 16,
   "metadata": {},
   "outputs": [
    {
     "data": {
      "image/png": "[encoded data removed]",
      "text/plain": [
       "<Figure size 432x288 with 1 Axes>"
      ]
     },
     "metadata": {
      "needs_background": "light"
     },
     "output_type": "display_data"
    }
   ],
   "source": [
    "# Let's use SKLearn's MLP algorithm to demonstrate a neural network\n",
    "# We will start with a shallow network\n",
    "mlp_model = MLPClassifier(hidden_layer_sizes=(100,),activation='logistic',learning_rate_init=0.01,random_state=0)\n",
    "mlp_model.fit(X_train_scaled,y_train)\n",
    "\n",
    "# Let's plot the loss curve on the training set\n",
    "plt.plot(mlp_model.loss_curve_)\n",
    "plt.xlabel('Epoch')\n",
    "plt.ylabel('Loss')\n",
    "plt.show()"
   ]
  },
  {
   "cell_type": "code",
   "execution_count": 17,
   "metadata": {},
   "outputs": [
    {
     "name": "stdout",
     "output_type": "stream",
     "text": [
      "Test set accuracy is 0.982\n"
     ]
    }
   ],
   "source": [
    "# Generate the predictions on the test set and calculate the test set accuracy\n",
    "test_preds = mlp_model.predict(X_test_scaled)\n",
    "test_acc = np.sum(test_preds==y_test)/len(y_test)\n",
    "print('Test set accuracy is {:.3f}'.format(test_acc))"
   ]
  },
  {
   "cell_type": "markdown",
   "metadata": {},
   "source": [
    "Now let's run another MLP model using 4 hidden layers rather than one, and a ReLU activation function rather than the sigmoid function we used previously."
   ]
  },
  {
   "cell_type": "code",
   "execution_count": 18,
   "metadata": {},
   "outputs": [
    {
     "data": {
      "image/png": "[encoded data removed]",
      "text/plain": [
       "<Figure size 432x288 with 1 Axes>"
      ]
     },
     "metadata": {
      "needs_background": "light"
     },
     "output_type": "display_data"
    }
   ],
   "source": [
    "# Let's try a deeper network and use a relu activation function\n",
    "mlp_model_deep = MLPClassifier(hidden_layer_sizes=(100,50,20,10),activation='relu',learning_rate_init=0.001,\n",
    "                               max_iter=200,alpha=0.1,random_state=0)\n",
    "mlp_model_deep.fit(X_train_scaled,y_train)\n",
    "\n",
    "# Let's plot the loss curve on the training set\n",
    "plt.plot(mlp_model_deep.loss_curve_)\n",
    "plt.xlabel('Epoch')\n",
    "plt.ylabel('Loss')\n",
    "plt.show()"
   ]
  },
  {
   "cell_type": "code",
   "execution_count": 19,
   "metadata": {},
   "outputs": [
    {
     "name": "stdout",
     "output_type": "stream",
     "text": [
      "Test set accuracy is 0.974\n"
     ]
    }
   ],
   "source": [
    "# Generate the predictions on the test set and calculate the test set accuracy\n",
    "test_preds = mlp_model_deep.predict(X_test_scaled)\n",
    "test_acc = np.sum(test_preds==y_test)/len(y_test)\n",
    "print('Test set accuracy is {:.3f}'.format(test_acc))"
   ]
  },
  {
   "cell_type": "markdown",
   "metadata": {},
   "source": [
    "## [OPTIONAL]: Neural Network from Scratch\n",
    "The following example will demonstrate how to build a simple fully-connected neural network with a single hidden layer, without the help of Scikit-Learn.  We will create a class `NeuralNetfromScratch` which sets up the neural network architecture and contains a method `fit()` to train the model and `predict()` to generate predictions.\n",
    "\n",
    "We will use a softmax activation function on the output (so it is extensible to multiclass problems) and the cross-entropy loss:  \n",
    "\n",
    "$ L_i = -\\log\\left(\\frac{e^{f_{y_i}}}{ \\sum_j e^{f_j} }\\right) $\n",
    "\n",
    "And we will include regularization so the total loss is the cross-entropy loss plus the regularization loss, averaged across all observations:\n",
    "\n",
    "$ L =  \\underbrace{ \\frac{1}{N} \\sum_i L_i }_\\text{data loss} + \\underbrace{ \\frac{1}{2} \\lambda \\sum_k\\sum_l W_{k,l}^2 }_\\text{regularization loss} \\\\\\\\ $"
   ]
  },
  {
   "cell_type": "code",
   "execution_count": 56,
   "metadata": {},
   "outputs": [
    {
     "name": "stdout",
     "output_type": "stream",
     "text": [
      "iteration 0: loss 0.69456\n",
      "iteration 1000: loss 0.05150\n",
      "iteration 2000: loss 0.03976\n",
      "iteration 3000: loss 0.03379\n",
      "iteration 4000: loss 0.03014\n",
      "iteration 5000: loss 0.02774\n",
      "iteration 6000: loss 0.02618\n",
      "iteration 7000: loss 0.02512\n",
      "iteration 8000: loss 0.02437\n",
      "iteration 9000: loss 0.02382\n",
      "iteration 10000: loss 0.02338\n",
      "iteration 11000: loss 0.02302\n",
      "iteration 12000: loss 0.02273\n",
      "iteration 13000: loss 0.02250\n",
      "iteration 14000: loss 0.02231\n",
      "iteration 15000: loss 0.02215\n",
      "iteration 16000: loss 0.02201\n",
      "iteration 17000: loss 0.02189\n",
      "iteration 18000: loss 0.02179\n",
      "iteration 19000: loss 0.02170\n",
      "iteration 20000: loss 0.02162\n",
      "iteration 21000: loss 0.02154\n",
      "iteration 22000: loss 0.02148\n",
      "iteration 23000: loss 0.02142\n",
      "iteration 24000: loss 0.02137\n"
     ]
    },
    {
     "data": {
      "text/plain": [
       "<__main__.NeuralNetfromScratch at 0x7fbe8d5b30d0>"
      ]
     },
     "execution_count": 56,
     "metadata": {},
     "output_type": "execute_result"
    }
   ],
   "source": [
    "class NeuralNetfromScratch:\n",
    "    # Neural network with a single hidden layer with relu activation function\n",
    "    # Output layer will use a softmax activation\n",
    "    \n",
    "    def __init__(self,eta=0.01,n_iter=100,hidden_size=100,reg=1e-3,random_state=0):\n",
    "        self.eta=eta # Learning rate\n",
    "        self.n_iter=n_iter # Number of epochs\n",
    "        self.hidden_size=hidden_size # Hidden layer size\n",
    "        self.reg=1e-3 # Regularization penalty\n",
    "        self.random_state=random_state\n",
    "    \n",
    "    def fit(self,X,y):\n",
    "        # Initialize the weights to small random numbers\n",
    "        self.W1 = 0.01 * np.random.randn(X.shape[1],self.hidden_size) # Input layer weights\n",
    "        self.b1 = np.zeros((1,self.hidden_size))\n",
    "        self.W2 = 0.01 * np.random.randn(self.hidden_size,len(np.unique(y))) # Hidden layer weights\n",
    "        self.b2 = np.zeros((1,len(np.unique(y))))\n",
    "        \n",
    "        # gradient descent loop\n",
    "        for i in range(self.n_iter):\n",
    "            \n",
    "            # Forward pass through the model\n",
    "            yhat = self.predict(X)\n",
    "            \n",
    "            # Compute the total loss = average cross-entropy loss + regularization loss\n",
    "            # Avg cross-entropy loss: 1/N * (-log(normalized probability of correct class))\n",
    "            # Regularization loss: 0.5 * reg * sum of weights squared, across all features and classes\n",
    "            \n",
    "            # Get the log probabilities assigned by the model to the correct classes\n",
    "            correct_logprobs = -np.log(yhat[range(X.shape[0]),y])\n",
    "            \n",
    "            # Calculate the cross-entropy loss\n",
    "            data_loss = np.sum(correct_logprobs)/X.shape[0]\n",
    "            # Calculate the regularization loss\n",
    "            reg_loss = 0.5*self.reg*np.sum(self.W1*self.W1) + 0.5*self.reg*np.sum(self.W2*self.W2)\n",
    "            # Total loss = cross-entropy-loss + regularization loss\n",
    "            loss = data_loss + reg_loss\n",
    "            \n",
    "            if i % 1000 == 0:\n",
    "                print(\"iteration {:d}: loss {:.5f}\".format(i, loss))\n",
    "            \n",
    "            # Calculate the gradient of the loss with respect to z2 (output layer error term)\n",
    "            # Gradient of loss wrt z2: a2 - 1(y=k)\n",
    "            d_z2 = yhat\n",
    "            d_z2[range(len(X)),y] -= 1\n",
    "            d_z2 /= X.shape[0]\n",
    "            \n",
    "            # Backpropate the gradient to the parameters\n",
    "            \n",
    "            # Backpropagate to get gradient wrt W2 and b2\n",
    "            z1 = np.dot(X, self.W1) + self.b1\n",
    "            a1 = np.maximum(0, z1) # relu\n",
    "            d_W2 = np.dot(a1.T, d_z2)\n",
    "            d_b2 = np.sum(d_z2, axis=0, keepdims=True)\n",
    "            \n",
    "            # Calculate hidden layer error term d_z1\n",
    "            d_z1 = np.dot(d_z2, self.W2.T)\n",
    "            # Backpropagate the ReLU non-linearity\n",
    "            d_z1[a1 <= 0] = 0\n",
    "            # Backprop to get gradient of loss wrt W1 and b1 (X * hidden layer error term d_z1)\n",
    "            d_W1 = np.dot(X.T, d_z1)\n",
    "            d_b1 = np.sum(d_z1, axis=0, keepdims=True)\n",
    "            \n",
    "            # Add regularization gradient contribution to the gradients of weights\n",
    "            d_W2 += self.reg * self.W2\n",
    "            d_W1 += self.reg * self.W1\n",
    "            \n",
    "            # Update the weights and biases\n",
    "            self.W1 += -self.eta * d_W1\n",
    "            self.b1 += -self.eta * d_b1\n",
    "            self.W2 += -self.eta * d_W2\n",
    "            self.b2 += -self.eta * d_b2\n",
    "            \n",
    "        return self\n",
    "    \n",
    "    def predict(self,X):\n",
    "        # Feed data through the neural network\n",
    "        z1 = np.dot(X, self.W1) + self.b1 # Linear combination of W1 and input features\n",
    "        a1 = np.maximum(0, z1) # Output of first hidden layer incl. relu\n",
    "        z2 = np.dot(a1, self.W2) + self.b2 # Linear combination of hidden layer output a1 and output layer weights\n",
    "        # Compute the class probabilities using softmax\n",
    "        a2 = np.exp(z2) / np.sum(np.exp(z2), axis=1, keepdims=True) # Shape: (num_examples,num_classes)\n",
    "        return a2\n",
    "\n",
    "\n",
    "nn_model = NeuralNetfromScratch(eta=0.05,n_iter=25000)\n",
    "nn_model.fit(X_train_scaled,y_train)"
   ]
  },
  {
   "cell_type": "code",
   "execution_count": 57,
   "metadata": {},
   "outputs": [
    {
     "name": "stdout",
     "output_type": "stream",
     "text": [
      "Test set accuracy: 0.965\n"
     ]
    }
   ],
   "source": [
    "# Evaluate accuracy on the test set\n",
    "yhat = nn_model.predict(X_test_scaled)\n",
    "predicted_class = np.argmax(yhat, axis=1)\n",
    "print('Test set accuracy: {:.3f}'.format(np.mean(predicted_class == y_test)))"
   ]
  }
 ],
 "metadata": {
  "kernelspec": {
   "display_name": "Python 3",
   "language": "python",
   "name": "python3"
  },
  "language_info": {
   "codemirror_mode": {
    "name": "ipython",
    "version": 3
   },
   "file_extension": ".py",
   "mimetype": "text/x-python",
   "name": "python",
   "nbconvert_exporter": "python",
   "pygments_lexer": "ipython3",
   "version": "3.7.9"
  }
 },
 "nbformat": 4,
 "nbformat_minor": 4
}
