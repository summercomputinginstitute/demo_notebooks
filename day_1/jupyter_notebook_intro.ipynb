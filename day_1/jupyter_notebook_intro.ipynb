{
 "cells": [
  {
   "cell_type": "markdown",
   "metadata": {},
   "source": [
    "<a href='https://ai.meng.duke.edu'> = <img align=\"left\" style=\"padding-top:10px;\" src=https://storage.googleapis.com/aipi_datasets/Duke-AIPI-Logo.png>"
   ]
  },
  {
   "cell_type": "markdown",
   "metadata": {},
   "source": [
    "# Introduction to Jupyter Notebooks"
   ]
  },
  {
   "cell_type": "markdown",
   "metadata": {},
   "source": [
    "This is an example of a markdown cell.  I use markdown cells to add text notes to code.  I can also embed images in markdown cells. \n",
    "\n",
    "# This is a title\n",
    "### This is a smaller title\n",
    "\n",
    "*This text will be italic*  \n",
    "**This text will be bold**\n",
    "\n",
    "We can create lists in markdown:  \n",
    "- Item A  \n",
    "- Item B\n",
    "\n",
    "I can also include code snippets in a markdown cell:\n",
    "```python\n",
    "def hello():\n",
    "    print('Hello World!')\n",
    "    return\n",
    "```"
   ]
  },
  {
   "cell_type": "code",
   "execution_count": 18,
   "metadata": {},
   "outputs": [
    {
     "name": "stdout",
     "output_type": "stream",
     "text": [
      "5\n"
     ]
    }
   ],
   "source": [
    "x = 3\n",
    "y = 2\n",
    "z = x+y\n",
    "print(z)"
   ]
  },
  {
   "cell_type": "code",
   "execution_count": 12,
   "metadata": {
    "scrolled": true
   },
   "outputs": [
    {
     "data": {
      "image/png": "[encoded data removed]",
      "text/plain": [
       "<Figure size 432x288 with 1 Axes>"
      ]
     },
     "metadata": {
      "needs_background": "light"
     },
     "output_type": "display_data"
    }
   ],
   "source": [
    "# We can also display plots in the notebook\n",
    "import pandas as pd\n",
    "import matplotlib.pyplot as plt\n",
    "data = pd.Series([85,70,96,88],index=['Bob','John','Lucy','Michelle'])\n",
    "plt.title('Student grades')\n",
    "data.plot(kind='bar')\n",
    "plt.show()"
   ]
  },
  {
   "cell_type": "markdown",
   "metadata": {},
   "source": [
    "### Keyboard shortcuts:\n",
    "`Shift-Enter`: runs the cell  \n",
    "`Enter`: changes to edit mode to edit contents of an individual cell  \n",
    "`Esc`: changes to command mode to edit notebook but not cell contents  \n",
    "`a`: insert new cell above  \n",
    "`b`: insert new cell below  \n",
    "`x`: delete cell  \n",
    "`m`: change cell type to markdown cell  \n",
    "`y`: change cell type to code cell  \n",
    "`s`: saves the notebook"
   ]
  },
  {
   "cell_type": "code",
   "execution_count": null,
   "metadata": {},
   "outputs": [],
   "source": []
  }
 ],
 "metadata": {
  "kernelspec": {
   "display_name": "Python 3",
   "language": "python",
   "name": "python3"
  },
  "language_info": {
   "codemirror_mode": {
    "name": "ipython",
    "version": 3
   },
   "file_extension": ".py",
   "mimetype": "text/x-python",
   "name": "python",
   "nbconvert_exporter": "python",
   "pygments_lexer": "ipython3",
   "version": "3.7.9"
  }
 },
 "nbformat": 4,
 "nbformat_minor": 4
}
