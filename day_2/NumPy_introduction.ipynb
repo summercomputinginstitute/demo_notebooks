{
 "cells": [
  {
   "cell_type": "markdown",
   "metadata": {},
   "source": [
    "<a href='https://ai.meng.duke.edu'> = <img align=\"left\" style=\"padding-top:10px;\" src=https://storage.googleapis.com/aipi_datasets/Duke-AIPI-Logo.png>"
   ]
  },
  {
   "cell_type": "markdown",
   "metadata": {},
   "source": [
    "# Introduction to NumPy"
   ]
  },
  {
   "cell_type": "code",
   "execution_count": 1,
   "metadata": {},
   "outputs": [],
   "source": [
    "import numpy as np"
   ]
  },
  {
   "cell_type": "markdown",
   "metadata": {},
   "source": [
    "### Create a NumPy ndarray"
   ]
  },
  {
   "cell_type": "code",
   "execution_count": 2,
   "metadata": {},
   "outputs": [
    {
     "name": "stdout",
     "output_type": "stream",
     "text": [
      "x_array is:  [4.25 3.   4.   5.  ]\n",
      "y_array is:  [1 1 1]\n",
      "z_array is: \n",
      " [[ 2  3  4]\n",
      " [ 4  5  6]\n",
      " [ 7  8  9]\n",
      " [10 11 12]]\n"
     ]
    }
   ],
   "source": [
    "# Method 1: from a Python list\n",
    "x_array = np.array([4.25, 3, 4, 5])\n",
    "print('x_array is: ',x_array)\n",
    "\n",
    "# Method 2: from scratch\n",
    "y_array = np.ones(3, dtype=int)\n",
    "print('y_array is: ',y_array)\n",
    "\n",
    "# Create a multidimensional array\n",
    "z_array = np.array([[2,3,4],[4,5,6],[7,8,9],[10,11,12]])\n",
    "print('z_array is: \\n',z_array)"
   ]
  },
  {
   "cell_type": "code",
   "execution_count": 69,
   "metadata": {},
   "outputs": [
    {
     "data": {
      "text/plain": [
       "[4.25, 3.0, 4.0, 5.0]"
      ]
     },
     "execution_count": 69,
     "metadata": {},
     "output_type": "execute_result"
    }
   ],
   "source": [
    "# Convert an array back to a list\n",
    "x_array = np.array([4.25, 3, 4, 5])\n",
    "x_list = x_array.tolist()\n",
    "x_list"
   ]
  },
  {
   "cell_type": "markdown",
   "metadata": {},
   "source": [
    "### Reshaping arrays"
   ]
  },
  {
   "cell_type": "code",
   "execution_count": 3,
   "metadata": {},
   "outputs": [
    {
     "data": {
      "text/plain": [
       "(4, 3)"
      ]
     },
     "execution_count": 3,
     "metadata": {},
     "output_type": "execute_result"
    }
   ],
   "source": [
    "# Check the shape of an array\n",
    "z_array.shape"
   ]
  },
  {
   "cell_type": "code",
   "execution_count": 4,
   "metadata": {},
   "outputs": [
    {
     "data": {
      "text/plain": [
       "array([[ 2,  3],\n",
       "       [ 4,  4],\n",
       "       [ 5,  6],\n",
       "       [ 7,  8],\n",
       "       [ 9, 10],\n",
       "       [11, 12]])"
      ]
     },
     "execution_count": 4,
     "metadata": {},
     "output_type": "execute_result"
    }
   ],
   "source": [
    "# Reshape the array by specifying the length of the dimensions we want\n",
    "z_reshaped = z_array.reshape((6,2))\n",
    "z_reshaped"
   ]
  },
  {
   "cell_type": "markdown",
   "metadata": {},
   "source": [
    "Sometimes we need to add extra dimensions to an array or remove an empty dimension in order for it to be used as an input to a function or model."
   ]
  },
  {
   "cell_type": "code",
   "execution_count": 5,
   "metadata": {},
   "outputs": [
    {
     "data": {
      "text/plain": [
       "(6, 2, 1)"
      ]
     },
     "execution_count": 5,
     "metadata": {},
     "output_type": "execute_result"
    }
   ],
   "source": [
    "# Add an extra dimension to an array\n",
    "z_reshaped = np.expand_dims(z_reshaped,axis=2)\n",
    "z_reshaped.shape"
   ]
  },
  {
   "cell_type": "code",
   "execution_count": 6,
   "metadata": {
    "scrolled": true
   },
   "outputs": [
    {
     "data": {
      "text/plain": [
       "(6, 2)"
      ]
     },
     "execution_count": 6,
     "metadata": {},
     "output_type": "execute_result"
    }
   ],
   "source": [
    "# Remove a dimension which is empty (in this case, the 3rd dimension of our z_reshaped array)\n",
    "z_reshaped = z_reshaped.squeeze()\n",
    "z_reshaped.shape"
   ]
  },
  {
   "cell_type": "markdown",
   "metadata": {},
   "source": [
    "### Slicing arrays"
   ]
  },
  {
   "cell_type": "code",
   "execution_count": 12,
   "metadata": {},
   "outputs": [
    {
     "data": {
      "text/plain": [
       "2"
      ]
     },
     "execution_count": 12,
     "metadata": {},
     "output_type": "execute_result"
    }
   ],
   "source": [
    "# Retrieve an element of an array using its index value\n",
    "x = np.array([1,2,3,4])\n",
    "x[1]"
   ]
  },
  {
   "cell_type": "code",
   "execution_count": 13,
   "metadata": {},
   "outputs": [
    {
     "data": {
      "text/plain": [
       "array([1, 3])"
      ]
     },
     "execution_count": 13,
     "metadata": {},
     "output_type": "execute_result"
    }
   ],
   "source": [
    "# Retrieve a slice of an array\n",
    "x[0:3:2] # Use start:stop:step (if you leave step out it is assumed to be 1)"
   ]
  },
  {
   "cell_type": "code",
   "execution_count": 47,
   "metadata": {},
   "outputs": [
    {
     "data": {
      "text/plain": [
       "[4, 3, 2, 1]"
      ]
     },
     "execution_count": 47,
     "metadata": {},
     "output_type": "execute_result"
    }
   ],
   "source": [
    "# Can also use this technique to reverse an array by using step = -1\n",
    "x[::-1]"
   ]
  },
  {
   "cell_type": "code",
   "execution_count": 11,
   "metadata": {},
   "outputs": [
    {
     "data": {
      "text/plain": [
       "3"
      ]
     },
     "execution_count": 11,
     "metadata": {},
     "output_type": "execute_result"
    }
   ],
   "source": [
    "# Retrieve an element of an array using its index values\n",
    "x = np.array([[1,2],[3,4]])\n",
    "x[1,0]"
   ]
  },
  {
   "cell_type": "code",
   "execution_count": 16,
   "metadata": {
    "scrolled": true
   },
   "outputs": [
    {
     "data": {
      "text/plain": [
       "array([4, 6, 9])"
      ]
     },
     "execution_count": 16,
     "metadata": {},
     "output_type": "execute_result"
    }
   ],
   "source": [
    "# Retrieve a multi-dimensional slice\n",
    "z_array = np.array([[2,3,4],[4,5,6],[7,8,9],[10,11,12]])\n",
    "z_array[0:3,2]"
   ]
  },
  {
   "cell_type": "markdown",
   "metadata": {},
   "source": [
    "### Concatenating arrays"
   ]
  },
  {
   "cell_type": "code",
   "execution_count": 48,
   "metadata": {},
   "outputs": [
    {
     "name": "stdout",
     "output_type": "stream",
     "text": [
      "xy1: \n",
      " [[1 2]\n",
      " [3 4]\n",
      " [5 6]\n",
      " [7 8]]\n",
      "xy2: \n",
      " [[1 2 5 6]\n",
      " [3 4 7 8]]\n"
     ]
    }
   ],
   "source": [
    "x = [[1,2],[3,4]]\n",
    "y = [[5,6],[7,8]]\n",
    "\n",
    "# Concatenate by adding the arrays together as rows (axis 0)\n",
    "xy1 = np.concatenate([x,y],axis=0)\n",
    "print('xy1: \\n',xy1)\n",
    "\n",
    "# Concatenate by adding the arrays together as columns (axis 1)\n",
    "xy2 = np.concatenate([x,y],axis=1)\n",
    "print('xy2: \\n',xy2)"
   ]
  },
  {
   "cell_type": "markdown",
   "metadata": {},
   "source": [
    "### Aggregations"
   ]
  },
  {
   "cell_type": "code",
   "execution_count": 51,
   "metadata": {
    "scrolled": true
   },
   "outputs": [
    {
     "name": "stdout",
     "output_type": "stream",
     "text": [
      "x: \n",
      " [[1 2 3]\n",
      " [4 5 6]\n",
      " [7 8 9]]\n",
      "Sums of rows are: \n",
      " [ 6 15 24]\n",
      "Sums of columns are: \n",
      " [12 15 18]\n",
      "Sum of the full array is: \n",
      " 45\n"
     ]
    }
   ],
   "source": [
    "x = np.array([[1,2,3],[4,5,6],[7,8,9]])\n",
    "print('x: \\n',x)\n",
    "\n",
    "# Compute the sum of rows, columns and the array\n",
    "print('Sums of rows are: \\n', np.sum(x, axis=1)) # Sum all columns for each row\n",
    "print('Sums of columns are: \\n', np.sum(x, axis=0)) # Sum all rows for each column\n",
    "print('Sum of the full array is: \\n', np.sum(x)) # Sum the full array"
   ]
  },
  {
   "cell_type": "markdown",
   "metadata": {},
   "source": [
    "### Statistics"
   ]
  },
  {
   "cell_type": "code",
   "execution_count": 54,
   "metadata": {},
   "outputs": [
    {
     "name": "stdout",
     "output_type": "stream",
     "text": [
      "x: \n",
      " [[1 2 3]\n",
      " [4 5 6]\n",
      " [7 8 9]]\n",
      "Max of rows are:  [3 6 9]\n",
      "Min of rows are:  [1 4 7]\n",
      "Means of rows are:  [2. 5. 8.]\n",
      "Max of rows are:  [7 8 9]\n",
      "Min of rows are:  [1 2 3]\n",
      "Means of rows are:  [4. 5. 6.]\n"
     ]
    }
   ],
   "source": [
    "x = np.array([[1,2,3],[4,5,6],[7,8,9]])\n",
    "print('x: \\n',x)\n",
    "\n",
    "# Compute mean, min, max for each row\n",
    "print('Max of rows are: ', np.max(x,axis=1))\n",
    "print('Min of rows are: ', np.min(x,axis=1))\n",
    "print('Means of rows are: ', np.mean(x,axis=1))\n",
    "\n",
    "# Compute mean, min, max for each column\n",
    "print('Max of rows are: ', np.max(x,axis=0))\n",
    "print('Min of rows are: ', np.min(x,axis=0))\n",
    "print('Means of rows are: ', np.mean(x,axis=0))"
   ]
  },
  {
   "cell_type": "code",
   "execution_count": 30,
   "metadata": {},
   "outputs": [
    {
     "name": "stdout",
     "output_type": "stream",
     "text": [
      "Index of the maximum value is 3\n",
      "Index of the minimum value is 2\n"
     ]
    }
   ],
   "source": [
    "# Get the index of the maximum value in a vector\n",
    "x = np.array([2,4,1,7,5])\n",
    "print(f'Index of the maximum value is {np.argmax(x)}')\n",
    "print(f'Index of the minimum value is {np.argmin(x)}')"
   ]
  },
  {
   "cell_type": "markdown",
   "metadata": {},
   "source": [
    "### Unique values and counts of values\n",
    "You can use `np.unique(array_name)` to get the unique values in an array.  You can also use `np.unique(array_name,return_counts=True)` to return the unique values in row 0 and the count of each contained in row 1."
   ]
  },
  {
   "cell_type": "code",
   "execution_count": 19,
   "metadata": {},
   "outputs": [
    {
     "name": "stdout",
     "output_type": "stream",
     "text": [
      "Unique values are [1 2 3 5 6]\n",
      "Unique values and counts are (array([1, 2, 3, 5, 6]), array([2, 1, 3, 1, 2]))\n"
     ]
    }
   ],
   "source": [
    "x = np.array([3,1,6,2,3,3,1,5,6])\n",
    "print(f'Unique values are {np.unique(x)}')"
   ]
  },
  {
   "cell_type": "code",
   "execution_count": 21,
   "metadata": {},
   "outputs": [
    {
     "name": "stdout",
     "output_type": "stream",
     "text": [
      "Unique values are [1 2 3 5 6]\n",
      "Counts of each unique value are [2 1 3 1 2]\n"
     ]
    }
   ],
   "source": [
    "x = np.array([3,1,6,2,3,3,1,5,6])\n",
    "print(f'Unique values are {np.unique(x,return_counts=True)[0]}')\n",
    "print(f'Counts of each unique value are {np.unique(x,return_counts=True)[1]}')"
   ]
  },
  {
   "cell_type": "markdown",
   "metadata": {},
   "source": [
    "### Operations via Broadcasting"
   ]
  },
  {
   "cell_type": "markdown",
   "metadata": {},
   "source": [
    "Operations on arrays can be performed using Python's standard operators, and are vectorized for much quicker calculation than loops"
   ]
  },
  {
   "cell_type": "code",
   "execution_count": 66,
   "metadata": {},
   "outputs": [
    {
     "name": "stdout",
     "output_type": "stream",
     "text": [
      "x =  [1 2 3]\n",
      "x+5 =  [6 7 8]\n",
      "x*5 =  [ 5 10 15]\n"
     ]
    }
   ],
   "source": [
    "x = np.array([1,2,3])\n",
    "print('x = ', x)\n",
    "print('x+5 = ', x+5)\n",
    "print('x*5 = ', x*5)"
   ]
  },
  {
   "cell_type": "code",
   "execution_count": 65,
   "metadata": {
    "scrolled": true
   },
   "outputs": [
    {
     "name": "stdout",
     "output_type": "stream",
     "text": [
      "ln(x) =  [0.         0.69314718 1.09861229]\n",
      "e^x =  [ 2.71828183  7.3890561  20.08553692]\n"
     ]
    }
   ],
   "source": [
    "print('ln(x) = ',np.log(x))\n",
    "print('e^x = ',np.exp(x))"
   ]
  },
  {
   "cell_type": "markdown",
   "metadata": {},
   "source": [
    "### Comparisons & filtering arrays with Boolean masks"
   ]
  },
  {
   "cell_type": "markdown",
   "metadata": {},
   "source": [
    "Comparison operators can be used on arrays to return Boolean (True/False) values. These Boolean values can then be used as a “mask” to filter arrays"
   ]
  },
  {
   "cell_type": "code",
   "execution_count": 76,
   "metadata": {},
   "outputs": [
    {
     "name": "stdout",
     "output_type": "stream",
     "text": [
      "x:  [1 2 3 4]\n",
      "x>2:  [False False  True  True]\n",
      "x==4:  [False False False  True]\n",
      "x!=2:  [ True False  True  True]\n"
     ]
    }
   ],
   "source": [
    "x = np.array([1,2,3,4])\n",
    "# Use comparison operators to return an array of Boolean values\n",
    "print('x: ',x)\n",
    "print('x>2: ',x>2)\n",
    "print('x==4: ',x == 4)\n",
    "print('x!=2: ',x!=2)"
   ]
  },
  {
   "cell_type": "code",
   "execution_count": 79,
   "metadata": {},
   "outputs": [
    {
     "name": "stdout",
     "output_type": "stream",
     "text": [
      "[3 4]\n",
      "[1 3 4]\n"
     ]
    }
   ],
   "source": [
    "# The returned Boolean array can be used as a \"mask\" or filter on the original array\n",
    "print(x[x>2]) # Returns all elements of x where x>2\n",
    "print(x[x!=2]) # Returns all elements of x where x is not equal to 2"
   ]
  },
  {
   "cell_type": "code",
   "execution_count": 65,
   "metadata": {},
   "outputs": [
    {
     "name": "stdout",
     "output_type": "stream",
     "text": [
      "[False False  True  True]\n",
      "[30 40]\n"
     ]
    }
   ],
   "source": [
    "# You can also use the returned Boolean array as a \"mask\" or filter on another array\n",
    "x = np.array([1,2,3,4])\n",
    "y = np.array([10,20,30,40])\n",
    "print(x>2) # Positions where the condition is true (\"mask\")\n",
    "print(y[x>2]) # Returns all elements of y matching the positions where the condition is true"
   ]
  },
  {
   "cell_type": "code",
   "execution_count": 55,
   "metadata": {},
   "outputs": [
    {
     "name": "stdout",
     "output_type": "stream",
     "text": [
      "[3]\n"
     ]
    }
   ],
   "source": [
    "# You can combine multiple conditions using bitwise Boolean operators (e.g. &,|)\n",
    "x = np.array([1,2,3,4])\n",
    "print(x[(x>2) & (x!=4)])"
   ]
  },
  {
   "cell_type": "code",
   "execution_count": 68,
   "metadata": {},
   "outputs": [
    {
     "name": "stdout",
     "output_type": "stream",
     "text": [
      "x: \n",
      " [1 2 3 4]\n",
      "Indices where x>2: [[2]\n",
      " [3]]\n"
     ]
    }
   ],
   "source": [
    "# You can get the indices which filter an array using a comparision operator\n",
    "x = np.array([1,2,3,4])\n",
    "print('x: \\n',x)\n",
    "idxs = np.argwhere(x>2)\n",
    "print(f'Indices where x>2: {idxs}')"
   ]
  },
  {
   "cell_type": "markdown",
   "metadata": {},
   "source": [
    "### Sorting arrays"
   ]
  },
  {
   "cell_type": "markdown",
   "metadata": {},
   "source": [
    "You can sort arrays and return either the sorted values or the indices of the sorted values"
   ]
  },
  {
   "cell_type": "code",
   "execution_count": 22,
   "metadata": {},
   "outputs": [
    {
     "name": "stdout",
     "output_type": "stream",
     "text": [
      "x: \n",
      " [[3 1 6]\n",
      " [5 0 3]]\n",
      "Sorted rows: \n",
      " [[1 3 6]\n",
      " [0 3 5]]\n",
      "Sorted rows: \n",
      " [[3 0 3]\n",
      " [5 1 6]]\n"
     ]
    }
   ],
   "source": [
    "x = np.array([[3,1,6],[5,0,3]])\n",
    "print('x: \\n',x)\n",
    "\n",
    "# Sort the array's rows\n",
    "y = np.sort(x, axis=1) # Sort on axis 1 (across)\n",
    "print('Sorted rows: \\n',y)\n",
    "\n",
    "# Sort the array's columns\n",
    "z = np.sort(x, axis=0) # Sort on axis 0 (down)\n",
    "print('Sorted rows: \\n',z)"
   ]
  },
  {
   "cell_type": "code",
   "execution_count": 23,
   "metadata": {},
   "outputs": [
    {
     "name": "stdout",
     "output_type": "stream",
     "text": [
      "Sorted row indices: \n",
      " [[1 0 2]\n",
      " [1 2 0]]\n",
      "Sorted row indices: \n",
      " [[0 1 1]\n",
      " [1 0 0]]\n"
     ]
    }
   ],
   "source": [
    "# Return the sorted array's indices\n",
    "rowsort_indices = np.argsort(x, axis=1) # Return indices from sorting on axis 1 (across)\n",
    "print('Sorted row indices: \\n',rowsort_indices)\n",
    "\n",
    "colsort_indices = np.argsort(x, axis=0) # Return indices from sorting on axis 0 (down)\n",
    "print('Sorted row indices: \\n',colsort_indices)"
   ]
  }
 ],
 "metadata": {
  "kernelspec": {
   "display_name": "Python 3",
   "language": "python",
   "name": "python3"
  },
  "language_info": {
   "codemirror_mode": {
    "name": "ipython",
    "version": 3
   },
   "file_extension": ".py",
   "mimetype": "text/x-python",
   "name": "python",
   "nbconvert_exporter": "python",
   "pygments_lexer": "ipython3",
   "version": "3.7.9"
  }
 },
 "nbformat": 4,
 "nbformat_minor": 4
}
